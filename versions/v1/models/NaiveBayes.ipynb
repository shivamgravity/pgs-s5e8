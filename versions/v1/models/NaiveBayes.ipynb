{
 "cells": [
  {
   "cell_type": "markdown",
   "id": "48716db4",
   "metadata": {},
   "source": [
    "# Naive Bayes"
   ]
  },
  {
   "cell_type": "code",
   "execution_count": null,
   "id": "e401553f",
   "metadata": {},
   "outputs": [],
   "source": [
    "# import required libraries\n",
    "import pandas as pd\n",
    "from imblearn.over_sampling import SMOTE\n",
    "from sklearn.naive_bayes import GaussianNB"
   ]
  },
  {
   "cell_type": "code",
   "execution_count": null,
   "id": "8dd73b10",
   "metadata": {},
   "outputs": [],
   "source": [
    "# read datasets\n",
    "train = pd.read_csv(\"../pdata/data/train.csv\")\n",
    "test = pd.read_csv(\"../pdata/data/test.csv\")"
   ]
  },
  {
   "cell_type": "code",
   "execution_count": null,
   "id": "16db8c20",
   "metadata": {},
   "outputs": [],
   "source": [
    "target = train[\"y\"]\n",
    "train_df = train.drop(\"y\", axis=1)\n",
    "test_df = test.drop(\"id\", axis=1)"
   ]
  },
  {
   "cell_type": "code",
   "execution_count": null,
   "id": "5246d6e7",
   "metadata": {},
   "outputs": [],
   "source": [
    "smote = SMOTE(random_state=42)\n",
    "X_train_smote, y_train_smote = smote.fit_resample(train_df,target)"
   ]
  },
  {
   "cell_type": "code",
   "execution_count": null,
   "id": "ee0013c3",
   "metadata": {},
   "outputs": [],
   "source": [
    "model = GaussianNB()\n",
    "model.fit(X_train_smote,y_train_smote)"
   ]
  },
  {
   "cell_type": "code",
   "execution_count": null,
   "id": "7dabaa36",
   "metadata": {},
   "outputs": [],
   "source": [
    "y_pred = model.predict(test_df)"
   ]
  },
  {
   "cell_type": "code",
   "execution_count": null,
   "id": "43871ad2",
   "metadata": {},
   "outputs": [],
   "source": [
    "final_y = []\n",
    "for x in y_pred:\n",
    "    if x == 1:\n",
    "        final_y.append(1)\n",
    "        continue\n",
    "    final_y.append(0)"
   ]
  },
  {
   "cell_type": "code",
   "execution_count": null,
   "id": "c867fcab",
   "metadata": {},
   "outputs": [],
   "source": [
    "result = pd.DataFrame({\n",
    "    \"id\": list(test[\"id\"]),\n",
    "    \"y\": final_y\n",
    "})"
   ]
  },
  {
   "cell_type": "code",
   "execution_count": null,
   "id": "b0cc8cde",
   "metadata": {},
   "outputs": [],
   "source": [
    "# save the first submission\n",
    "result.to_csv(\"../submissions/submission03.csv\", index=False)"
   ]
  }
 ],
 "metadata": {
  "kernelspec": {
   "display_name": "Python 3",
   "language": "python",
   "name": "python3"
  },
  "language_info": {
   "codemirror_mode": {
    "name": "ipython",
    "version": 3
   },
   "file_extension": ".py",
   "mimetype": "text/x-python",
   "name": "python",
   "nbconvert_exporter": "python",
   "pygments_lexer": "ipython3",
   "version": "3.13.5"
  }
 },
 "nbformat": 4,
 "nbformat_minor": 5
}
