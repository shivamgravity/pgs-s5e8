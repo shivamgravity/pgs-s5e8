{
 "cells": [
  {
   "cell_type": "markdown",
   "id": "ae95651e",
   "metadata": {},
   "source": [
    "# MLP using k fold and Optuna"
   ]
  },
  {
   "cell_type": "markdown",
   "id": "f2393eb5",
   "metadata": {},
   "source": [
    "## Import Libraries"
   ]
  },
  {
   "cell_type": "code",
   "execution_count": null,
   "id": "222e0e7d",
   "metadata": {},
   "outputs": [],
   "source": [
    "# import required libraries\n",
    "import numpy as np\n",
    "import pandas as pd\n",
    "from imblearn.over_sampling import SMOTE\n",
    "from sklearn.preprocessing import StandardScaler\n",
    "import optuna\n",
    "from sklearn.model_selection import KFold\n",
    "from sklearn.neural_network import MLPClassifier"
   ]
  },
  {
   "cell_type": "markdown",
   "id": "6c5804fb",
   "metadata": {},
   "source": [
    "## Load Dataset"
   ]
  },
  {
   "cell_type": "code",
   "execution_count": null,
   "id": "36fb9597",
   "metadata": {},
   "outputs": [],
   "source": [
    "# read datasets\n",
    "train = pd.read_csv(\"../pdata/data/train.csv\")\n",
    "test = pd.read_csv(\"../pdata/data/test.csv\")"
   ]
  },
  {
   "cell_type": "code",
   "execution_count": null,
   "id": "7d29fc0a",
   "metadata": {},
   "outputs": [],
   "source": [
    "target_feature = train[\"y\"]\n",
    "train_df = train.drop(\"y\", axis=1)\n",
    "test_df = test.drop(\"id\", axis=1)"
   ]
  },
  {
   "cell_type": "markdown",
   "id": "b2fd1a4b",
   "metadata": {},
   "source": [
    "## Balance the train Dataset"
   ]
  },
  {
   "cell_type": "code",
   "execution_count": null,
   "id": "1d60e158",
   "metadata": {},
   "outputs": [],
   "source": [
    "smote = SMOTE(random_state=42)\n",
    "X_train_smote, y_train_smote = smote.fit_resample(train_df,target_feature)"
   ]
  },
  {
   "cell_type": "markdown",
   "id": "cf484d69",
   "metadata": {},
   "source": [
    "## Scale the features"
   ]
  },
  {
   "cell_type": "code",
   "execution_count": null,
   "id": "af66d1dd",
   "metadata": {},
   "outputs": [],
   "source": [
    "# scaling the dataset\n",
    "scaler = StandardScaler()\n",
    "scaled_train = scaler.fit_transform(X_train_smote)\n",
    "scaled_test = scaler.transform(test_df)\n",
    "\n",
    "# target feature\n",
    "target = y_train_smote.to_numpy()"
   ]
  },
  {
   "cell_type": "markdown",
   "id": "02bc0255",
   "metadata": {},
   "source": [
    "## Optuna + k fold"
   ]
  },
  {
   "cell_type": "code",
   "execution_count": null,
   "id": "162c70c4",
   "metadata": {},
   "outputs": [],
   "source": [
    "# optuna\n",
    "def objective(trial):\n",
    "    # suggest hyper params\n",
    "    n_layers = trial.suggest_int('n_layers', 1, 3)\n",
    "    layers = [trial.suggest_int(f'n_units_l{i}', 16, 128) for i in range(n_layers)]\n",
    "    activation = trial.suggest_categorical('activation',['relu','tanh'])\n",
    "    solver = trial.suggest_categorical('solver', ['adam','sgd'])\n",
    "    alpha = trial.suggest_float('alpha', 1e-6, 1e-2, log=True)\n",
    "    learning_rate_init = trial.suggest_float('learning_rate_init', 1e-4, 1e-1, log=True)\n",
    "\n",
    "    # k = 5 fold cross validation\n",
    "    kf = KFold(n_splits=5, shuffle=True, random_state=42)\n",
    "    scores = []\n",
    "    for train_idx, val_idx in kf.split(scaled_train):\n",
    "        X_tr, X_val = scaled_train[train_idx], scaled_train [val_idx]\n",
    "        y_tr, y_val = target[train_idx], target[val_idx]\n",
    "\n",
    "        # MLP model\n",
    "        clf = MLPClassifier(\n",
    "            hidden_layer_sizes = tuple(layers),\n",
    "            activation = activation,\n",
    "            solver = solver,\n",
    "            alpha = alpha,\n",
    "            learning_rate_init = learning_rate_init,\n",
    "            max_iter = 300,\n",
    "            random_state = 42\n",
    "        )\n",
    "        clf.fit(X_tr, y_tr)\n",
    "        scores.append(clf.score(X_val, y_val))\n",
    "    return np.mean(scores)"
   ]
  },
  {
   "cell_type": "code",
   "execution_count": null,
   "id": "7b8fe4ce",
   "metadata": {},
   "outputs": [],
   "source": [
    "# optimize hyper params\n",
    "study = optuna.create_study(direction='maximize')\n",
    "study.optimize(objective, n_trials=25)\n",
    "\n",
    "print(\"Best params:\", study.best_params)\n",
    "print(\"Best CV score:\", study.best_value)"
   ]
  },
  {
   "cell_type": "markdown",
   "id": "4aa106f7",
   "metadata": {},
   "source": [
    "## Train on Full Data Using Best Params"
   ]
  },
  {
   "cell_type": "code",
   "execution_count": null,
   "id": "a58248a7",
   "metadata": {},
   "outputs": [],
   "source": [
    "# train the final model on full training data with best hyper params\n",
    "best = study.best_params\n",
    "layers = [best[f'n_units_l{i}'] for i in range(best['n_layers'])]\n",
    "final_model = MLPClassifier(\n",
    "    hidden_layer_size = tuple(layers),\n",
    "    activation = best['activation'],\n",
    "    solver = best['solver'],\n",
    "    alpha = best['alpha'],\n",
    "    learning_rate_init = best['learning_rate_init'],\n",
    "    max_iter = 300,\n",
    "    random_state = 42\n",
    ")"
   ]
  },
  {
   "cell_type": "markdown",
   "id": "94709691",
   "metadata": {},
   "source": [
    "## Predict on Test Data"
   ]
  },
  {
   "cell_type": "code",
   "execution_count": null,
   "id": "5b3388d2",
   "metadata": {},
   "outputs": [],
   "source": [
    "# predict on test set\n",
    "y_pred = final_model.predict(scaled_test)"
   ]
  },
  {
   "cell_type": "code",
   "execution_count": null,
   "id": "a12ff56d",
   "metadata": {},
   "outputs": [],
   "source": [
    "final_y = []\n",
    "for x in y_pred:\n",
    "    if x == 1:\n",
    "        final_y.append(1)\n",
    "        continue\n",
    "    final_y.append(0)"
   ]
  },
  {
   "cell_type": "code",
   "execution_count": null,
   "id": "e52500d8",
   "metadata": {},
   "outputs": [],
   "source": [
    "result = pd.DataFrame({\n",
    "    \"id\": list(test[\"id\"]),\n",
    "    \"y\": final_y\n",
    "})"
   ]
  },
  {
   "cell_type": "code",
   "execution_count": null,
   "id": "b34a6da9",
   "metadata": {},
   "outputs": [],
   "source": [
    "# save the first submission\n",
    "result.to_csv(\"../submissions/submission16.csv\", index=False)"
   ]
  }
 ],
 "metadata": {
  "kernelspec": {
   "display_name": "Python 3",
   "language": "python",
   "name": "python3"
  },
  "language_info": {
   "codemirror_mode": {
    "name": "ipython",
    "version": 3
   },
   "file_extension": ".py",
   "mimetype": "text/x-python",
   "name": "python",
   "nbconvert_exporter": "python",
   "pygments_lexer": "ipython3",
   "version": "3.13.5"
  }
 },
 "nbformat": 4,
 "nbformat_minor": 5
}
