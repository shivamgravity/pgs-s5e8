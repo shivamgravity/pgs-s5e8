{
 "cells": [
  {
   "cell_type": "markdown",
   "id": "2b2e8866",
   "metadata": {},
   "source": [
    "# Cat Boost"
   ]
  },
  {
   "cell_type": "code",
   "execution_count": 8,
   "id": "8cac2bcf",
   "metadata": {},
   "outputs": [],
   "source": [
    "# import required libraries\n",
    "import pandas as pd\n",
    "from imblearn.over_sampling import SMOTE\n",
    "from catboost import CatBoostClassifier, Pool"
   ]
  },
  {
   "cell_type": "code",
   "execution_count": 9,
   "id": "635e8cb8",
   "metadata": {},
   "outputs": [],
   "source": [
    "# read datasets\n",
    "train = pd.read_csv(\"../pdata/data/train.csv\")\n",
    "test = pd.read_csv(\"../pdata/data/test.csv\")"
   ]
  },
  {
   "cell_type": "code",
   "execution_count": 10,
   "id": "63de19cd",
   "metadata": {},
   "outputs": [],
   "source": [
    "target = train[\"y\"]\n",
    "train_df = train.drop(\"y\", axis=1)\n",
    "test_df = test.drop(\"id\", axis=1)"
   ]
  },
  {
   "cell_type": "code",
   "execution_count": 11,
   "id": "13eedd7e",
   "metadata": {},
   "outputs": [],
   "source": [
    "smote = SMOTE(random_state=42)\n",
    "X_train_smote, y_train_smote = smote.fit_resample(train_df,target)"
   ]
  },
  {
   "cell_type": "code",
   "execution_count": 12,
   "id": "a4ddf462",
   "metadata": {},
   "outputs": [],
   "source": [
    "# categorical features\n",
    "cat_features = ['job', 'marital', 'education', 'default', 'housing', 'loan', 'contact', 'poutcome']"
   ]
  },
  {
   "cell_type": "code",
   "execution_count": 13,
   "id": "69f81945",
   "metadata": {},
   "outputs": [],
   "source": [
    "model = CatBoostClassifier(\n",
    "    iterations=100,\n",
    "    learning_rate=0.1,\n",
    "    depth=6,\n",
    "    cat_features=cat_features,\n",
    "    verbose=10\n",
    ")"
   ]
  },
  {
   "cell_type": "code",
   "execution_count": 14,
   "id": "c8bc82ee",
   "metadata": {},
   "outputs": [
    {
     "name": "stdout",
     "output_type": "stream",
     "text": [
      "0:\tlearn: 0.6312784\ttotal: 702ms\tremaining: 1m 9s\n",
      "10:\tlearn: 0.3535686\ttotal: 5.71s\tremaining: 46.2s\n",
      "20:\tlearn: 0.2761742\ttotal: 10.1s\tremaining: 38.1s\n",
      "30:\tlearn: 0.2471836\ttotal: 14.4s\tremaining: 32.1s\n",
      "40:\tlearn: 0.2314899\ttotal: 18.5s\tremaining: 26.7s\n",
      "50:\tlearn: 0.2216506\ttotal: 23s\tremaining: 22.1s\n",
      "60:\tlearn: 0.2142752\ttotal: 27.7s\tremaining: 17.7s\n",
      "70:\tlearn: 0.2075206\ttotal: 32s\tremaining: 13.1s\n",
      "80:\tlearn: 0.2014030\ttotal: 36.7s\tremaining: 8.61s\n",
      "90:\tlearn: 0.1972450\ttotal: 41s\tremaining: 4.05s\n",
      "99:\tlearn: 0.1937319\ttotal: 44.7s\tremaining: 0us\n"
     ]
    },
    {
     "data": {
      "text/plain": [
       "<catboost.core.CatBoostClassifier at 0x26633b7a210>"
      ]
     },
     "execution_count": 14,
     "metadata": {},
     "output_type": "execute_result"
    }
   ],
   "source": [
    "train_pool = Pool(X_train_smote, y_train_smote, cat_features=cat_features)\n",
    "model.fit(train_pool)"
   ]
  },
  {
   "cell_type": "code",
   "execution_count": 15,
   "id": "13244507",
   "metadata": {},
   "outputs": [],
   "source": [
    "y_pred = model.predict(test_df)"
   ]
  },
  {
   "cell_type": "code",
   "execution_count": 16,
   "id": "c1836905",
   "metadata": {},
   "outputs": [],
   "source": [
    "final_y = []\n",
    "for x in y_pred:\n",
    "    if x > 0.5:\n",
    "        final_y.append(1)\n",
    "        continue\n",
    "    final_y.append(0)"
   ]
  },
  {
   "cell_type": "code",
   "execution_count": 17,
   "id": "5abb88da",
   "metadata": {},
   "outputs": [],
   "source": [
    "result = pd.DataFrame({\n",
    "    \"id\": list(test[\"id\"]),\n",
    "    \"y\": final_y\n",
    "})"
   ]
  },
  {
   "cell_type": "code",
   "execution_count": 18,
   "id": "309654b3",
   "metadata": {},
   "outputs": [],
   "source": [
    "# save the first submission\n",
    "result.to_csv(\"../submissions/submission13.csv\", index=False)"
   ]
  }
 ],
 "metadata": {
  "kernelspec": {
   "display_name": "Python 3",
   "language": "python",
   "name": "python3"
  },
  "language_info": {
   "codemirror_mode": {
    "name": "ipython",
    "version": 3
   },
   "file_extension": ".py",
   "mimetype": "text/x-python",
   "name": "python",
   "nbconvert_exporter": "python",
   "pygments_lexer": "ipython3",
   "version": "3.13.5"
  }
 },
 "nbformat": 4,
 "nbformat_minor": 5
}
