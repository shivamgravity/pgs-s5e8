{
 "cells": [
  {
   "cell_type": "markdown",
   "id": "260cfffc",
   "metadata": {},
   "source": [
    "# Threshold Otsu"
   ]
  },
  {
   "cell_type": "code",
   "execution_count": 1,
   "id": "e008a413",
   "metadata": {},
   "outputs": [],
   "source": [
    "# import required libraries\n",
    "import numpy as np\n",
    "import pandas as pd\n",
    "from imblearn.over_sampling import SMOTE\n",
    "from sklearn.preprocessing import StandardScaler\n",
    "from sklearn.discriminant_analysis import LinearDiscriminantAnalysis\n",
    "from skimage.filters import threshold_otsu"
   ]
  },
  {
   "cell_type": "code",
   "execution_count": 2,
   "id": "75aa1813",
   "metadata": {},
   "outputs": [],
   "source": [
    "# read datasets\n",
    "train = pd.read_csv(\"../pdata/data/train.csv\")\n",
    "test = pd.read_csv(\"../pdata/data/test.csv\")"
   ]
  },
  {
   "cell_type": "code",
   "execution_count": 3,
   "id": "10485d73",
   "metadata": {},
   "outputs": [],
   "source": [
    "target = train[\"y\"]\n",
    "train_df = train.drop(\"y\", axis=1)\n",
    "test_df = test.drop(\"id\", axis=1)"
   ]
  },
  {
   "cell_type": "code",
   "execution_count": 4,
   "id": "a5423c26",
   "metadata": {},
   "outputs": [],
   "source": [
    "smote = SMOTE(random_state=42)\n",
    "X_train_smote, y_train_smote = smote.fit_resample(train_df,target)"
   ]
  },
  {
   "cell_type": "code",
   "execution_count": 5,
   "id": "b00a3188",
   "metadata": {},
   "outputs": [],
   "source": [
    "# scaling the dataset\n",
    "scaler = StandardScaler()\n",
    "scaled_data = scaler.fit_transform(X_train_smote)\n",
    "scaled_test_df = scaler.transform(test_df)"
   ]
  },
  {
   "cell_type": "code",
   "execution_count": 6,
   "id": "6ece0f47",
   "metadata": {},
   "outputs": [],
   "source": [
    "# applying LDA\n",
    "lda = LinearDiscriminantAnalysis()\n",
    "lda_data = lda.fit_transform(scaled_data, y_train_smote)\n",
    "test_lda_data = lda.transform(scaled_test_df)"
   ]
  },
  {
   "cell_type": "code",
   "execution_count": 7,
   "id": "468dca88",
   "metadata": {},
   "outputs": [],
   "source": [
    "reduced_test_data = pd.DataFrame(test_lda_data, columns=[f'LD{i+1}' for i in range(lda_data.shape[1])])"
   ]
  },
  {
   "cell_type": "code",
   "execution_count": 8,
   "id": "8232e4f3",
   "metadata": {},
   "outputs": [],
   "source": [
    "LD = np.array(list(reduced_test_data[\"LD1\"]))"
   ]
  },
  {
   "cell_type": "code",
   "execution_count": 9,
   "id": "da6ab330",
   "metadata": {},
   "outputs": [],
   "source": [
    "threshold = threshold_otsu(LD)"
   ]
  },
  {
   "cell_type": "code",
   "execution_count": 10,
   "id": "bcb25d6b",
   "metadata": {},
   "outputs": [],
   "source": [
    "binarized = [0 if x < threshold else 1 for x in LD]"
   ]
  },
  {
   "cell_type": "code",
   "execution_count": 11,
   "id": "abe484c1",
   "metadata": {},
   "outputs": [],
   "source": [
    "result = pd.DataFrame({\n",
    "    \"id\": list(test[\"id\"]),\n",
    "    \"y\": binarized\n",
    "})"
   ]
  },
  {
   "cell_type": "code",
   "execution_count": 12,
   "id": "cccb6ca4",
   "metadata": {},
   "outputs": [],
   "source": [
    "# save the first submission\n",
    "result.to_csv(\"../submissions/submission11.csv\", index=False)"
   ]
  }
 ],
 "metadata": {
  "kernelspec": {
   "display_name": "Python 3",
   "language": "python",
   "name": "python3"
  },
  "language_info": {
   "codemirror_mode": {
    "name": "ipython",
    "version": 3
   },
   "file_extension": ".py",
   "mimetype": "text/x-python",
   "name": "python",
   "nbconvert_exporter": "python",
   "pygments_lexer": "ipython3",
   "version": "3.13.5"
  }
 },
 "nbformat": 4,
 "nbformat_minor": 5
}
