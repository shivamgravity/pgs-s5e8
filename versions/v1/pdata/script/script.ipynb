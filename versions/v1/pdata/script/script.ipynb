{
 "cells": [
  {
   "cell_type": "markdown",
   "id": "9c4691ec",
   "metadata": {},
   "source": [
    "# Data Preprocessing"
   ]
  },
  {
   "cell_type": "code",
   "execution_count": null,
   "id": "ad23979c",
   "metadata": {},
   "outputs": [],
   "source": [
    "# importing required libraries\n",
    "import pandas as pd\n",
    "from sklearn.preprocessing import LabelEncoder, RobustScaler"
   ]
  },
  {
   "cell_type": "markdown",
   "id": "2ec5ed19",
   "metadata": {},
   "source": [
    "## Read the dataset"
   ]
  },
  {
   "cell_type": "code",
   "execution_count": null,
   "id": "626a00e8",
   "metadata": {},
   "outputs": [],
   "source": [
    "# reading the datasets - train and test\n",
    "train = pd.read_csv(\"../../../../dataset/train.csv\")\n",
    "test = pd.read_csv(\"../../../../dataset/test.csv\")"
   ]
  },
  {
   "cell_type": "markdown",
   "id": "73047d5e",
   "metadata": {},
   "source": [
    "Remove the **id** and **y** - the *target* feature from train and **id** from test dataset.\n",
    "\n",
    "Save them as a separate dataframe."
   ]
  },
  {
   "cell_type": "code",
   "execution_count": null,
   "id": "6f590fa3",
   "metadata": {},
   "outputs": [],
   "source": [
    "# remove id columns\n",
    "train_df = train.drop([\"id\",\"y\"], axis=1)\n",
    "test_df = test.drop(\"id\", axis=1)"
   ]
  },
  {
   "cell_type": "markdown",
   "id": "4f7182bf",
   "metadata": {},
   "source": [
    "### Check For Null Values"
   ]
  },
  {
   "cell_type": "code",
   "execution_count": null,
   "id": "44dcb7ba",
   "metadata": {},
   "outputs": [],
   "source": [
    "print(\"train df\\n\",train_df.isnull().sum())\n",
    "print(\"\\ntest_df\\n\",test_df.isnull().sum())"
   ]
  },
  {
   "cell_type": "markdown",
   "id": "0fccd2c9",
   "metadata": {},
   "source": [
    "### Separate Numerical and Categorical Features"
   ]
  },
  {
   "cell_type": "code",
   "execution_count": null,
   "id": "c1db04d4",
   "metadata": {},
   "outputs": [],
   "source": [
    "# columns as their data types\n",
    "def segregate_categorical_numerical(df):\n",
    "    columns = list(df.columns)\n",
    "    numeric_columns = []\n",
    "    categorical_columns = []\n",
    "    for column in columns:\n",
    "        dtype = train_df[column].dtype\n",
    "        # code for separting numeric and object dtype columns\n",
    "        if dtype in ['int64','float64']:\n",
    "            numeric_columns.append(column)\n",
    "        else:\n",
    "            categorical_columns.append(column)\n",
    "    return numeric_columns, categorical_columns\n",
    "\n",
    "train_num_cols, train_cat_cols = segregate_categorical_numerical(train_df)\n",
    "test_num_cols, test_cat_cols = segregate_categorical_numerical(test_df)\n",
    "\n",
    "print(\"Numeric Features in...\")\n",
    "print(\"train data:\",train_num_cols)\n",
    "print(\"test data:\",test_num_cols)\n",
    "print(\"\\nCategorical Features in...\")\n",
    "print(\"train data:\",train_cat_cols)\n",
    "print(\"test data:\",test_cat_cols)"
   ]
  },
  {
   "cell_type": "markdown",
   "id": "b9067ae5",
   "metadata": {},
   "source": [
    "### Use Label Encoding for Categorical Features"
   ]
  },
  {
   "cell_type": "code",
   "execution_count": null,
   "id": "58441def",
   "metadata": {},
   "outputs": [],
   "source": [
    "# encoding categorical features using label encoding\n",
    "le = LabelEncoder()\n",
    "train_categorical_features = dict()\n",
    "test_categorical_features = dict()\n",
    "for cat_cols in train_cat_cols:\n",
    "    if cat_cols == \"month\":\n",
    "        continue\n",
    "    train_categorical_features[cat_cols] = le.fit_transform(train_df[cat_cols])\n",
    "    test_categorical_features[cat_cols] = le.transform(test_df[cat_cols])\n",
    "train_categorical_features = pd.DataFrame(train_categorical_features)\n",
    "test_categorical_features = pd.DataFrame(test_categorical_features)"
   ]
  },
  {
   "cell_type": "markdown",
   "id": "f083714c",
   "metadata": {},
   "source": [
    "### Use RobustScaler for Numerical Features"
   ]
  },
  {
   "cell_type": "code",
   "execution_count": null,
   "id": "2db143fa",
   "metadata": {},
   "outputs": [],
   "source": [
    "# encoding numerical features using RobustScaler\n",
    "rs = RobustScaler()\n",
    "# removing the day column for customized changing\n",
    "del_cols = train_cat_cols + [\"day\"]\n",
    "train_df_rs = train_df.drop(del_cols, axis=1)\n",
    "test_df_rs = test_df.drop(del_cols, axis=1)\n",
    "# fit and transform the data\n",
    "train_numerical_features_rs = rs.fit_transform(train_df_rs)\n",
    "test_numerical_features_rs = rs.transform(test_df_rs)\n",
    "# turning back to dataframe\n",
    "train_numerical_features = pd.DataFrame(train_numerical_features_rs, columns=train_df_rs.columns)\n",
    "test_numerical_features = pd.DataFrame(test_numerical_features_rs, columns=test_df_rs.columns)"
   ]
  },
  {
   "cell_type": "markdown",
   "id": "73a854e0",
   "metadata": {},
   "source": [
    "### Combine the Day and Month Feature as a Single Feature"
   ]
  },
  {
   "cell_type": "code",
   "execution_count": null,
   "id": "84ef7ff2",
   "metadata": {},
   "outputs": [],
   "source": [
    "# preprocessing the day and month feature\n",
    "# combining day and month column\n",
    "def new_day_month(df):\n",
    "    day_month = []\n",
    "    day = df[\"day\"]\n",
    "    month = df[\"month\"]\n",
    "    for x in range(len(day)):\n",
    "        day_month.append(f\"{day[x]}_{month[x]}\")\n",
    "    return day_month\n",
    "\n",
    "# counting how many zeros and ones for unique day_month\n",
    "def count_day_month_y(dm,y):\n",
    "    day_month_y = dict()\n",
    "    for x in range(len(y)):\n",
    "        if dm[x] not in day_month_y.keys():\n",
    "            day_month_y[dm[x]] = [0,0]\n",
    "        if y[x] == 0:\n",
    "            day_month_y[dm[x]][0] += 1\n",
    "        else:\n",
    "            day_month_y[dm[x]][1] += 1\n",
    "    return day_month_y\n",
    "\n",
    "# making the final feature column\n",
    "def final_day_month(dm,cdm):\n",
    "    fdm = []\n",
    "    for x in dm:\n",
    "        zeros = cdm[x][0]\n",
    "        ones = cdm[x][1]\n",
    "        # probability of 1 for that date of the year\n",
    "        p = round(ones/(zeros+ones),5)\n",
    "        fdm.append(p)\n",
    "    return fdm\n",
    "\n",
    "train_day_month = new_day_month(train_df)\n",
    "train_count_day_month = count_day_month_y(train_day_month,list(train[\"y\"]))\n",
    "final_train_day_month = final_day_month(train_day_month,train_count_day_month)"
   ]
  },
  {
   "cell_type": "markdown",
   "id": "d902d622",
   "metadata": {},
   "source": [
    "#### Handling Extremes After Combination"
   ]
  },
  {
   "cell_type": "code",
   "execution_count": null,
   "id": "bfa6a60f",
   "metadata": {},
   "outputs": [],
   "source": [
    "# there's no \"y\" feature in test data because it is the target feature\n",
    "test_day_month = new_day_month(test_df)\n",
    "final_test_day_month = []\n",
    "for x in test_day_month:\n",
    "    if x not in train_day_month:\n",
    "        # if a day is not present in training set, we instantiate it with 0.00001\n",
    "        final_test_day_month.append(0.00001)\n",
    "        continue\n",
    "    final_test_day_month.append(final_train_day_month[train_day_month.index(x)])"
   ]
  },
  {
   "cell_type": "markdown",
   "id": "94ed4ab2",
   "metadata": {},
   "source": [
    "## Combine All The Processed Features Into A Single DataFrame"
   ]
  },
  {
   "cell_type": "code",
   "execution_count": null,
   "id": "6ddf47d8",
   "metadata": {},
   "outputs": [],
   "source": [
    "# combining all the processed features for train and test dataset\n",
    "# for train data\n",
    "final_train_day_month = pd.DataFrame({\n",
    "    \"day_month\": final_train_day_month\n",
    "})\n",
    "train_y = pd.DataFrame({\n",
    "    \"y\": list(train[\"y\"])\n",
    "})\n",
    "processed_train_df = pd.concat([train_categorical_features,train_numerical_features,final_train_day_month,train_y], axis=1)\n",
    "# for test data\n",
    "final_test_day_month = pd.DataFrame({\n",
    "    \"day_month\": final_test_day_month\n",
    "})\n",
    "test_id = pd.DataFrame({\"id\": list(test[\"id\"])})\n",
    "processed_test_df = pd.concat([test_id,test_categorical_features,test_numerical_features,final_test_day_month], axis=1)"
   ]
  },
  {
   "cell_type": "markdown",
   "id": "ebd15960",
   "metadata": {},
   "source": [
    "## Save Processed Train and Test data"
   ]
  },
  {
   "cell_type": "code",
   "execution_count": null,
   "id": "6e3d0379",
   "metadata": {},
   "outputs": [],
   "source": [
    "# save the processed dataframes as csv files\n",
    "# train data\n",
    "processed_train_df.to_csv(\"../data/train.csv\", index=False)\n",
    "# test data\n",
    "processed_test_df.to_csv(\"../data/test.csv\", index=False)"
   ]
  }
 ],
 "metadata": {
  "kernelspec": {
   "display_name": "Python 3",
   "language": "python",
   "name": "python3"
  },
  "language_info": {
   "codemirror_mode": {
    "name": "ipython",
    "version": 3
   },
   "file_extension": ".py",
   "mimetype": "text/x-python",
   "name": "python",
   "nbconvert_exporter": "python",
   "pygments_lexer": "ipython3",
   "version": "3.13.5"
  }
 },
 "nbformat": 4,
 "nbformat_minor": 5
}
